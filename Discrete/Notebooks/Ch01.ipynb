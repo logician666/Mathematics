{
 "cells": [
  {
   "cell_type": "markdown",
   "metadata": {},
   "source": [
    "# The Foundations: Logic and Proof"
   ]
  },
  {
   "cell_type": "markdown",
   "metadata": {},
   "source": [
    "## 1.1 Propositional Logic"
   ]
  },
  {
   "cell_type": "markdown",
   "metadata": {},
   "source": [
    "### General notes and working inline examples"
   ]
  },
  {
   "cell_type": "code",
   "execution_count": 2,
   "metadata": {},
   "outputs": [],
   "source": [
    "import pandas as pd\n",
    "import ttg"
   ]
  },
  {
   "cell_type": "code",
   "execution_count": 12,
   "metadata": {},
   "outputs": [
    {
     "name": "stdout",
     "output_type": "stream",
     "text": [
      "       p      q (p or ~q) => (p and q)\n",
      "1   True   True                   True\n",
      "2   True  False                  False\n",
      "3  False   True                   True\n",
      "4  False  False                   True\n"
     ]
    }
   ],
   "source": [
    "print(\n",
    "    ttg.Truths(['p', 'q'], ['(p or ~q) => (p and q)'], ints=False).as_pandas()\n",
    ")"
   ]
  },
  {
   "cell_type": "markdown",
   "metadata": {},
   "source": [
    "---"
   ]
  },
  {
   "cell_type": "markdown",
   "metadata": {},
   "source": [
    "### Solutions to exercises of section 1.1"
   ]
  },
  {
   "cell_type": "markdown",
   "metadata": {},
   "source": [
    "5\\.   \n",
    "1. Mei does not has an MP3 player.\n",
    "2. There is pollution in New Jeresey.\n",
    "3. $2 + 1 \\ne 3$.\n",
    "4. The summer is Maine is not hot or it is not sunny."
   ]
  },
  {
   "cell_type": "markdown",
   "metadata": {},
   "source": [
    "6\\.  \n",
    "1. Jennifer and Teja are not friends.\n",
    "2. There are more or less than $13$ items in a baker's doezen.\n",
    "3. Abby sent $100$ or less text messages yesterday.\n",
    "4. $121$ is not a perfect square."
   ]
  },
  {
   "cell_type": "markdown",
   "metadata": {},
   "source": [
    "7\\.   \n",
    "1. Seteve does not have more than 100 GB free disk space on his laptop.\n",
    "2. Zack does not block e-mails and texts from Jennifer.\n",
    "Note: we belive that the 'and' between 'e-mails' and 'texts in this contexts  \n",
    "does not conjuct two statements but rather two objects setting  them as a  \n",
    "coherent one!\n",
    "3. $7 \\cdot 11 \\cdot 13 \\ne 999$.\n",
    "4. Diane did not ride her bicycle 100 miles on Sunday."
   ]
  },
  {
   "cell_type": "markdown",
   "metadata": {},
   "source": [
    "8\\.  \n",
    "Given the data in the table below:\n",
    "| Smartphone  | RAM (MB) | ROM (GB) | Camera Resolution (MP) |\n",
    "| ----------- |      ---:|      ---:|                    ---:| \n",
    "| A           | 256      | 32       | 8                      |\n",
    "| B           | 288      | 64       | 4                      |\n",
    "| C           | 128      | 32       | 5                      |\n",
    "\n",
    "we find that:\n",
    "1. True.\n",
    "2. True.\n",
    "3. False.\n",
    "4. False.\n",
    "5. False."
   ]
  },
  {
   "cell_type": "markdown",
   "metadata": {},
   "source": [
    "9\\. Given the date below\n",
    "\n",
    "Company | Annual Revenue | Net Profit |\n",
    "---------------|     ---:|        ---:|\n",
    "Acme Computer  | 138     | 8          |\n",
    "Nadir Software | 87      | 5          |\n",
    "Quixote Media  | 111     | 13         |\n",
    "\n",
    "We find that:\n",
    "1. False.\n",
    "2. True.\n",
    "3. True.\n",
    "4. True.\n",
    "5. True."
   ]
  },
  {
   "cell_type": "markdown",
   "metadata": {},
   "source": [
    "10\\.\n",
    "1. I did not buy a lottery ticket this week.\n",
    "2. I bought a lottery ticket this week, or I won the million dollar jackpot.\n",
    "3. "
   ]
  }
 ],
 "metadata": {
  "interpreter": {
   "hash": "561ae34d269d80dfe6697125e5fef263bf4cea1da13eab624fca1561e588a6b4"
  },
  "kernelspec": {
   "display_name": "Python 3.10.0 64-bit",
   "language": "python",
   "name": "python3"
  },
  "language_info": {
   "codemirror_mode": {
    "name": "ipython",
    "version": 3
   },
   "file_extension": ".py",
   "mimetype": "text/x-python",
   "name": "python",
   "nbconvert_exporter": "python",
   "pygments_lexer": "ipython3",
   "version": "3.10.0"
  },
  "orig_nbformat": 4
 },
 "nbformat": 4,
 "nbformat_minor": 2
}
